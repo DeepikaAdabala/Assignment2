{
  "nbformat": 4,
  "nbformat_minor": 0,
  "metadata": {
    "colab": {
      "name": "statistics2",
      "provenance": [],
      "authorship_tag": "ABX9TyMWOitiVYj/LypOPjbfiyak",
      "include_colab_link": true
    },
    "kernelspec": {
      "name": "python3",
      "display_name": "Python 3"
    },
    "language_info": {
      "name": "python"
    }
  },
  "cells": [
    {
      "cell_type": "markdown",
      "metadata": {
        "id": "view-in-github",
        "colab_type": "text"
      },
      "source": [
        "<a href=\"https://colab.research.google.com/github/DeepikaAdabala/Assignment2/blob/main/Assignment/statistics2.ipynb\" target=\"_parent\"><img src=\"https://colab.research.google.com/assets/colab-badge.svg\" alt=\"Open In Colab\"/></a>"
      ]
    },
    {
      "cell_type": "code",
      "execution_count": 1,
      "metadata": {
        "colab": {
          "base_uri": "https://localhost:8080/"
        },
        "id": "-yf4y37Wop7E",
        "outputId": "bbf7d2c2-6a3e-450a-e241-7f095f3dcca8"
      },
      "outputs": [
        {
          "output_type": "stream",
          "name": "stderr",
          "text": [
            "/usr/local/lib/python3.7/dist-packages/statsmodels/tools/_testing.py:19: FutureWarning: pandas.util.testing is deprecated. Use the functions in the public API at pandas.testing instead.\n",
            "  import pandas.util.testing as tm\n"
          ]
        },
        {
          "output_type": "execute_result",
          "data": {
            "text/plain": [
              "(1.5976240527147705, 0.1101266701438426)"
            ]
          },
          "metadata": {},
          "execution_count": 1
        }
      ],
      "source": [
        "#Z-test\n",
        "from statsmodels.stats.weightstats import ztest as ztest\n",
        " \n",
        "#enter IQ levels for 20 patients\n",
        "data = [88, 92, 94, 94, 96, 97, 97, 97, 99, 99,\n",
        "       105, 109, 109, 109, 110, 112, 112, 113, 114, 115]\n",
        " \n",
        "#perform one sample z-test\n",
        "ztest(data, value=100)\n",
        "#value is nothing but H0 or Null hypothesis(here we say that avg is 100)\n"
      ]
    },
    {
      "cell_type": "code",
      "source": [
        "#performing one t test\n",
        "import scipy.stats as stats\n",
        "stats.ttest_1samp(a=data, popmean=100)"
      ],
      "metadata": {
        "colab": {
          "base_uri": "https://localhost:8080/"
        },
        "id": "yqyl_YSvzqt9",
        "outputId": "971ec9fc-18ba-4196-a932-97794808fb12"
      },
      "execution_count": 6,
      "outputs": [
        {
          "output_type": "execute_result",
          "data": {
            "text/plain": [
              "Ttest_1sampResult(statistic=1.5976240527147705, pvalue=0.12662462536124378)"
            ]
          },
          "metadata": {},
          "execution_count": 6
        }
      ]
    },
    {
      "cell_type": "code",
      "source": [
        "from statsmodels.stats.weightstats import ztest as ztest\n",
        " \n",
        "#enter IQ levels for 20 individuals from each city\n",
        "cityA = [82, 84, 85, 89, 91, 91, 92, 94, 99, 99,\n",
        "        105, 109, 109, 109, 110, 112, 112, 113, 114, 114]\n",
        " \n",
        "cityB = [90, 91, 91, 91, 95, 95, 99, 99, 108, 109,\n",
        "        109, 114, 115, 116, 117, 117, 128, 129, 130, 133]\n",
        " \n",
        "#perform two sample z-test\n",
        "ztest(cityA, cityB, value=0)\n",
        " \n",
        " \n",
        "#here value of H0 is 0 because null hypothesis is that there is no difference in IQ of two cities\n"
      ],
      "metadata": {
        "colab": {
          "base_uri": "https://localhost:8080/"
        },
        "id": "DHJ7s22o4uAV",
        "outputId": "08e7c2c8-1c11-4ebf-ce73-90456a0ca4f7"
      },
      "execution_count": 7,
      "outputs": [
        {
          "output_type": "execute_result",
          "data": {
            "text/plain": [
              "(-1.9953236073282115, 0.046007596761332065)"
            ]
          },
          "metadata": {},
          "execution_count": 7
        }
      ]
    },
    {
      "cell_type": "code",
      "source": [
        "import scipy.stats as stats\n",
        "stats.ttest_ind(a=cityA, b=cityB,equal_var=True)\n"
      ],
      "metadata": {
        "colab": {
          "base_uri": "https://localhost:8080/"
        },
        "id": "t7NxVg8348OZ",
        "outputId": "55873069-6b41-493b-9bc6-57dbea73e0ef"
      },
      "execution_count": 10,
      "outputs": [
        {
          "output_type": "execute_result",
          "data": {
            "text/plain": [
              "Ttest_indResult(statistic=-1.9953236073282115, pvalue=0.05321388037191098)"
            ]
          },
          "metadata": {},
          "execution_count": 10
        }
      ]
    },
    {
      "cell_type": "code",
      "source": [
        "pre = [88, 82, 84, 93, 75, 78, 84, 87, 95, 91, 83, 89, 77, 68, 91]\n",
        "post = [91, 84, 88, 90, 79, 80, 88, 90, 90, 96, 88, 89, 81, 74, 92]\n",
        " \n",
        "#ttest_rel(a, b)\n",
        " \n",
        "#where:\n",
        " \n",
        "#a: an array of sample observations from group 1\n",
        "#b: an array of sample observations from group 2\n",
        "import scipy.stats as stats\n",
        " \n",
        "#perform the paired samples t-test\n",
        "stats.ttest_rel(pre, post)"
      ],
      "metadata": {
        "colab": {
          "base_uri": "https://localhost:8080/"
        },
        "id": "TEmWkEQK9v3n",
        "outputId": "8888cdc9-2d58-45b5-a14c-bc1e0f94ea84"
      },
      "execution_count": 11,
      "outputs": [
        {
          "output_type": "execute_result",
          "data": {
            "text/plain": [
              "Ttest_relResult(statistic=-2.9732484231168796, pvalue=0.01007144862643272)"
            ]
          },
          "metadata": {},
          "execution_count": 11
        }
      ]
    }
  ]
}